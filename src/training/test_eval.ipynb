{
 "cells": [
  {
   "cell_type": "code",
   "execution_count": 15,
   "metadata": {},
   "outputs": [],
   "source": [
    "import cv2\n",
    "import numpy as np\n",
    "import torch\n",
    "\n",
    "# Correctly specify the path\n",
    "path = \"../../data/uploads/36199.png\"\n",
    "\n",
    "# Use the path as the first argument and flag as the second argument\n",
    "img = cv2.imread(path, cv2.IMREAD_GRAYSCALE)\n",
    "\n",
    "# Check if the image was loaded successfully\n",
    "if img is None:\n",
    "    raise ValueError(\"Image not found at specified path!\")\n",
    "\n",
    "# Resize the image\n",
    "img_resized = cv2.resize(img, (128, 128))\n",
    "\n",
    "# Normalize pixel values\n",
    "img_resized = img_resized / 255.0\n",
    "\n",
    "# Convert to numpy array\n",
    "input_image = np.array(img_resized, dtype=np.float32)\n"
   ]
  },
  {
   "cell_type": "code",
   "execution_count": null,
   "metadata": {},
   "outputs": [],
   "source": [
    "\n",
    "# input_tensor = torch.tensor(input_image).to(torch.float32).unsqueeze(0).unsqueeze(0) \n",
    "# print(input_tensor.shape)  \n",
    "input_data = np.expand_dims(input_image, axis=0) \n",
    "input_data = np.expand_dims(input_data, axis=0)"
   ]
  },
  {
   "cell_type": "code",
   "execution_count": 22,
   "metadata": {},
   "outputs": [
    {
     "name": "stdout",
     "output_type": "stream",
     "text": [
      "Model output: [0 0 0 0 0 0 0 0 0 0]\n"
     ]
    }
   ],
   "source": [
    "import onnxruntime as ort\n",
    "\n",
    "# 加載 ONNX 模型\n",
    "session = ort.InferenceSession(\"../../data/model/CNN_classification_model.onnx\")\n",
    "\n",
    "# 獲取模型的輸入名稱\n",
    "input_name = session.get_inputs()[0].name\n",
    "output_name = session.get_outputs()[0].name\n",
    "\n",
    "# 執行推論\n",
    "outputs = session.run([output_name], {input_name: input_data})\n",
    "binary_output = (outputs[0][0] > 0.5).astype(int)\n",
    "# 查看結果\n",
    "print(\"Model output:\", binary_output)\n"
   ]
  },
  {
   "cell_type": "code",
   "execution_count": 23,
   "metadata": {},
   "outputs": [],
   "source": [
    "columns_name = ['Atelectasis', 'Calcification', 'Consolidation', 'Effusion', 'Emphysema', 'Fibrosis', 'Fracture', \n",
    "                  'Mass', 'Nodule', 'Pneumothorax']"
   ]
  }
 ],
 "metadata": {
  "kernelspec": {
   "display_name": "dev310-mldl",
   "language": "python",
   "name": "python3"
  },
  "language_info": {
   "codemirror_mode": {
    "name": "ipython",
    "version": 3
   },
   "file_extension": ".py",
   "mimetype": "text/x-python",
   "name": "python",
   "nbconvert_exporter": "python",
   "pygments_lexer": "ipython3",
   "version": "3.10.15"
  }
 },
 "nbformat": 4,
 "nbformat_minor": 2
}
